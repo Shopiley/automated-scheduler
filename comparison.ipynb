import time
from genetic_algorithm1 import GeneticAlgorithm
from differential_evolution import DifferentialEvolution
from input_data import input_data
import matplotlib.pyplot as plt
 
def run_comparative_analysis(ga, de, max_generations):
    # Initialize results containers
    ga_fitnesses = []
    de_fitnesses = []
    
    # Timing GA
    start_time_ga = time.time()
    ga_best_solution, ga_fitness_history = ga.run(max_generations)
    ga_time = time.time() - start_time_ga
    
    # Timing DE
    start_time_de = time.time()
    de_best_solution, de_fitness_history = de.run(max_generations)
    de_time = time.time() - start_time_de

    # Record fitness results
    ga_fitnesses.append(ga_fitness_history)
    de_fitnesses.append(de_fitness_history)

    print(f"GA best fitness: {ga_fitness_history[-1]}, Time: {ga_time:.2f}s")
    print(f"DE best fitness: {de_fitness_history[-1]}, Time: {de_time:.2f}s")

    return ga_fitnesses, de_fitnesses, ga_time, de_time

# Assuming both GA and DE have `run()` method implemented
max_generations = 300
ga_instance = GeneticAlgorithm(input_data, pop_size=50, F=0.5, CR=0.8)
de_instance = DifferentialEvolution(input_data, pop_size=50, F=0.5, CR=0.8)
ga_fitnesses, de_fitnesses, ga_time, de_time = run_comparative_analysis(ga_instance, de_instance, max_generations)

def plot_fitness_comparison(ga_fitnesses, de_fitnesses):
    generations = range(len(ga_fitnesses))
    
    plt.plot(generations, ga_fitnesses, label="GA Fitness")
    plt.plot(generations, de_fitnesses, label="DE Fitness")
    plt.xlabel("Generations")
    plt.ylabel("Fitness")
    plt.title("GA vs DE Fitness Progress")
    plt.legend()
    plt.show()

plot_fitness_comparison(ga_fitnesses[-1], de_fitnesses[-1])

